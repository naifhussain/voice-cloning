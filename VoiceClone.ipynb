{
 "cells": [
  {
   "cell_type": "markdown",
   "id": "93e32ff4",
   "metadata": {},
   "source": [
    "# TASK"
   ]
  },
  {
   "cell_type": "markdown",
   "id": "081d70a4",
   "metadata": {},
   "source": [
    "Problem Statements :\n",
    "    \n",
    "* Create a voice cloning model that can generate a synthetic voice that sounds like a specific person. Here extract a voice of a speaker from online who is for example giving a speech/ TED talk in (English/Hindi/Telugu) for at least 1 minute. Clone this speaker’s voice to a different language (English/Hindi/Telugu) with the same pitch, and audio tone, and it should be able to reproduce the unique vocal characteristics of the target speaker.\n",
    "\n",
    "* Example: (Let's say you have extracted audio of Elon Musk giving a speech in English, your task is to change the language of Elon Musk’s same speech to another language to Hindi/Telugu. It should be as if Elon Musk himself is talking in Hindi/Telugu).\n",
    "\n"
   ]
  },
  {
   "cell_type": "markdown",
   "id": "1efd3baa",
   "metadata": {},
   "source": [
    "Here's a high-level overview of the my complete task:\n",
    "\n",
    "* Preprocessing\n",
    "* Language Detection\n",
    "* Translation (Language Conversion)\n",
    "* TTS Engine Selection\n",
    "* Voice Style Selection\n",
    "* Synthesis\n",
    "* Post-processing\n",
    "* Output\n",
    "            "
   ]
  },
  {
   "cell_type": "code",
   "execution_count": 1,
   "id": "d2d48c0c",
   "metadata": {},
   "outputs": [],
   "source": [
    "from gtts import gTTS\n",
    "from langdetect import detect"
   ]
  },
  {
   "cell_type": "code",
   "execution_count": 2,
   "id": "ab1151eb",
   "metadata": {},
   "outputs": [],
   "source": [
    "# Input the text in any language\n",
    "input_text = \"Hello, this is a sample text to be converted to Hindi.\""
   ]
  },
  {
   "cell_type": "code",
   "execution_count": 3,
   "id": "237f8f12",
   "metadata": {},
   "outputs": [],
   "source": [
    "# i have generate a Language detection\n",
    "input_language = detect(input_text)"
   ]
  },
  {
   "cell_type": "code",
   "execution_count": 4,
   "id": "57069771",
   "metadata": {},
   "outputs": [],
   "source": [
    "# i have generate Target language\n",
    "target_language = \"hi\"  # i have convert to Hindi"
   ]
  },
  {
   "cell_type": "code",
   "execution_count": 5,
   "id": "6725a6ad",
   "metadata": {},
   "outputs": [
    {
     "name": "stdout",
     "output_type": "stream",
     "text": [
      "Speech generated and saved as 'output.mp3'\n"
     ]
    }
   ],
   "source": [
    "# next, Language translation\n",
    "if input_language != target_language:\n",
    "    # Implement translation logic here\n",
    "    # For example, using the googletrans library\n",
    "    from googletrans import Translator\n",
    "    translator = Translator()\n",
    "    translated_text = translator.translate(input_text, src=input_language, dest=target_language).text\n",
    "else:\n",
    "    translated_text = input_text\n",
    "\n",
    "# Select a TTS engine \n",
    "tts = gTTS(text=translated_text, lang=target_language, slow=False)\n",
    "\n",
    "# Save the synthesized speech to an audio file\n",
    "tts.save(\"output.mp3\")\n",
    "\n",
    "print(\"Speech generated and saved as 'output.mp3'\")"
   ]
  },
  {
   "cell_type": "code",
   "execution_count": 6,
   "id": "984e2c2f",
   "metadata": {},
   "outputs": [
    {
     "name": "stdout",
     "output_type": "stream",
     "text": [
      "pygame 2.5.2 (SDL 2.28.3, Python 3.11.4)\n",
      "Hello from the pygame community. https://www.pygame.org/contribute.html\n"
     ]
    }
   ],
   "source": [
    "import os\n",
    "import pygame\n",
    "from gtts import gTTS\n",
    "from langdetect import detect\n",
    "from googletrans import Translator"
   ]
  },
  {
   "cell_type": "code",
   "execution_count": 7,
   "id": "4853394d",
   "metadata": {},
   "outputs": [],
   "source": [
    "# this is the input text in any language\n",
    "input_text = \"Hello, this is a sample text to be converted to Hindi.\""
   ]
  },
  {
   "cell_type": "code",
   "execution_count": 8,
   "id": "2cef8669",
   "metadata": {},
   "outputs": [],
   "source": [
    "# this is Language detection\n",
    "input_language = detect(input_text)"
   ]
  },
  {
   "cell_type": "code",
   "execution_count": 9,
   "id": "5c360910",
   "metadata": {},
   "outputs": [],
   "source": [
    "# i have create Target language\n",
    "target_language = \"hi\"  #hindi"
   ]
  },
  {
   "cell_type": "code",
   "execution_count": 10,
   "id": "277a2c2a",
   "metadata": {},
   "outputs": [
    {
     "name": "stdout",
     "output_type": "stream",
     "text": [
      "Speech generated and saved as 'output.mp3' in 'C:/Users/chenn/Downloads'\n"
     ]
    }
   ],
   "source": [
    "# Language translation\n",
    "if input_language != target_language:\n",
    "    # Implement translation logic here\n",
    "    translator = Translator()\n",
    "    translated_text = translator.translate(input_text, src=input_language, dest=target_language).text\n",
    "else:\n",
    "    translated_text = input_text\n",
    "\n",
    "# Select a TTS engine \n",
    "tts = gTTS(text=translated_text, lang=target_language, slow=False)\n",
    "\n",
    "# Specify the full path to save the synthesized speech in the \"Downloads\" directory\n",
    "output_file = 'C:/Users/chenn/Downloads/output.mp3'\n",
    "tts.save(output_file)\n",
    "\n",
    "# Initialize pygame mixer\n",
    "pygame.mixer.init()\n",
    "\n",
    "# Load the audio file\n",
    "pygame.mixer.music.load(output_file)\n",
    "\n",
    "# Play the audio\n",
    "pygame.mixer.music.play()\n",
    "\n",
    "while pygame.mixer.music.get_busy():\n",
    "    pygame.time.Clock().tick(10)\n",
    "\n",
    "print(\"Speech generated and saved as 'output.mp3' in 'C:/Users/chenn/Downloads'\")"
   ]
  },
  {
   "cell_type": "markdown",
   "id": "4eb17199",
   "metadata": {},
   "source": [
    "# ___The End___"
   ]
  }
 ],
 "metadata": {
  "kernelspec": {
   "display_name": "Python 3 (ipykernel)",
   "language": "python",
   "name": "python3"
  },
  "language_info": {
   "codemirror_mode": {
    "name": "ipython",
    "version": 3
   },
   "file_extension": ".py",
   "mimetype": "text/x-python",
   "name": "python",
   "nbconvert_exporter": "python",
   "pygments_lexer": "ipython3",
   "version": "3.11.4"
  }
 },
 "nbformat": 4,
 "nbformat_minor": 5
}
